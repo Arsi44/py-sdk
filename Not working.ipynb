{
 "cells": [
  {
   "cell_type": "code",
   "execution_count": 14,
   "metadata": {},
   "outputs": [
    {
     "ename": "ImportError",
     "evalue": "cannot import name 'VPoolClient' from 'nibiru.clients' (/Users/mdarblade/opt/anaconda3/lib/python3.9/site-packages/nibiru_py-0.0.4-py3.9.egg/nibiru/clients/__init__.py)",
     "output_type": "error",
     "traceback": [
      "\u001b[0;31m---------------------------------------------------------------------------\u001b[0m",
      "\u001b[0;31mImportError\u001b[0m                               Traceback (most recent call last)",
      "\u001b[0;32m/var/folders/00/n9t1px6d7zb_k3rkktd_httr0000gn/T/ipykernel_3004/2988990415.py\u001b[0m in \u001b[0;36m<module>\u001b[0;34m\u001b[0m\n\u001b[0;32m----> 1\u001b[0;31m \u001b[0;32mfrom\u001b[0m \u001b[0mnibiru\u001b[0m \u001b[0;32mimport\u001b[0m \u001b[0mSdk\u001b[0m\u001b[0;34m,\u001b[0m \u001b[0mSide\u001b[0m\u001b[0;34m,\u001b[0m \u001b[0mPoolAsset\u001b[0m\u001b[0;34m,\u001b[0m \u001b[0mComposer\u001b[0m\u001b[0;34m\u001b[0m\u001b[0;34m\u001b[0m\u001b[0m\n\u001b[0m\u001b[1;32m      2\u001b[0m \u001b[0;32mimport\u001b[0m \u001b[0mtime\u001b[0m\u001b[0;34m\u001b[0m\u001b[0;34m\u001b[0m\u001b[0m\n",
      "\u001b[0;32m~/opt/anaconda3/lib/python3.9/site-packages/nibiru_py-0.0.4-py3.9.egg/nibiru/__init__.py\u001b[0m in \u001b[0;36m<module>\u001b[0;34m\u001b[0m\n\u001b[0;32m----> 1\u001b[0;31m \u001b[0;32mfrom\u001b[0m \u001b[0;34m.\u001b[0m\u001b[0mclient\u001b[0m \u001b[0;32mimport\u001b[0m \u001b[0mClient\u001b[0m  \u001b[0;31m# noqa\u001b[0m\u001b[0;34m\u001b[0m\u001b[0;34m\u001b[0m\u001b[0m\n\u001b[0m\u001b[1;32m      2\u001b[0m \u001b[0;32mfrom\u001b[0m \u001b[0;34m.\u001b[0m\u001b[0mcommon\u001b[0m \u001b[0;32mimport\u001b[0m \u001b[0mDirection\u001b[0m\u001b[0;34m,\u001b[0m \u001b[0mPoolAsset\u001b[0m\u001b[0;34m,\u001b[0m \u001b[0mSide\u001b[0m\u001b[0;34m,\u001b[0m \u001b[0mTxConfig\u001b[0m  \u001b[0;31m# noqa\u001b[0m\u001b[0;34m\u001b[0m\u001b[0;34m\u001b[0m\u001b[0m\n\u001b[1;32m      3\u001b[0m \u001b[0;32mfrom\u001b[0m \u001b[0;34m.\u001b[0m\u001b[0mcomposer\u001b[0m \u001b[0;32mimport\u001b[0m \u001b[0mComposer\u001b[0m  \u001b[0;31m# noqa\u001b[0m\u001b[0;34m\u001b[0m\u001b[0;34m\u001b[0m\u001b[0m\n\u001b[1;32m      4\u001b[0m \u001b[0;32mfrom\u001b[0m \u001b[0;34m.\u001b[0m\u001b[0mnetwork\u001b[0m \u001b[0;32mimport\u001b[0m \u001b[0mNetwork\u001b[0m  \u001b[0;31m# noqa\u001b[0m\u001b[0;34m\u001b[0m\u001b[0;34m\u001b[0m\u001b[0m\n\u001b[1;32m      5\u001b[0m \u001b[0;32mfrom\u001b[0m \u001b[0;34m.\u001b[0m\u001b[0msdk\u001b[0m \u001b[0;32mimport\u001b[0m \u001b[0mSdk\u001b[0m  \u001b[0;31m# noqa\u001b[0m\u001b[0;34m\u001b[0m\u001b[0;34m\u001b[0m\u001b[0m\n",
      "\u001b[0;32m~/opt/anaconda3/lib/python3.9/site-packages/nibiru_py-0.0.4-py3.9.egg/nibiru/client.py\u001b[0m in \u001b[0;36m<module>\u001b[0;34m\u001b[0m\n\u001b[1;32m     10\u001b[0m \u001b[0;32mfrom\u001b[0m \u001b[0;34m.\u001b[0m\u001b[0mclients\u001b[0m \u001b[0;32mimport\u001b[0m \u001b[0mPerp\u001b[0m \u001b[0;32mas\u001b[0m \u001b[0mPerpClient\u001b[0m\u001b[0;34m\u001b[0m\u001b[0;34m\u001b[0m\u001b[0m\n\u001b[1;32m     11\u001b[0m \u001b[0;32mfrom\u001b[0m \u001b[0;34m.\u001b[0m\u001b[0mclients\u001b[0m \u001b[0;32mimport\u001b[0m \u001b[0mVPool\u001b[0m \u001b[0;32mas\u001b[0m \u001b[0mVPoolClient\u001b[0m\u001b[0;34m\u001b[0m\u001b[0;34m\u001b[0m\u001b[0m\n\u001b[0;32m---> 12\u001b[0;31m \u001b[0;32mfrom\u001b[0m \u001b[0;34m.\u001b[0m\u001b[0mclients\u001b[0m \u001b[0;32mimport\u001b[0m \u001b[0mVPoolClient\u001b[0m\u001b[0;34m\u001b[0m\u001b[0;34m\u001b[0m\u001b[0m\n\u001b[0m\u001b[1;32m     13\u001b[0m \u001b[0;32mfrom\u001b[0m \u001b[0;34m.\u001b[0m\u001b[0mexceptions\u001b[0m \u001b[0;32mimport\u001b[0m \u001b[0mNotFoundError\u001b[0m\u001b[0;34m\u001b[0m\u001b[0;34m\u001b[0m\u001b[0m\n\u001b[1;32m     14\u001b[0m \u001b[0;32mfrom\u001b[0m \u001b[0;34m.\u001b[0m\u001b[0mnetwork\u001b[0m \u001b[0;32mimport\u001b[0m \u001b[0mNetwork\u001b[0m\u001b[0;34m\u001b[0m\u001b[0;34m\u001b[0m\u001b[0m\n",
      "\u001b[0;31mImportError\u001b[0m: cannot import name 'VPoolClient' from 'nibiru.clients' (/Users/mdarblade/opt/anaconda3/lib/python3.9/site-packages/nibiru_py-0.0.4-py3.9.egg/nibiru/clients/__init__.py)"
     ]
    }
   ],
   "source": [
    "from nibiru import Sdk, Side, PoolAsset, Composer\n",
    "import time\n"
   ]
  },
  {
   "cell_type": "code",
   "execution_count": null,
   "metadata": {},
   "outputs": [],
   "source": [
    "WHALE_MNEMONIC = \"guard cream sadness conduct invite crumble clock pudding hole grit liar hotel maid produce squeeze return argue turtle know drive eight casino maze host\""
   ]
  },
  {
   "cell_type": "code",
   "execution_count": 3,
   "metadata": {},
   "outputs": [],
   "source": [
    "trader = Sdk.authorize(WHALE_MNEMONIC)"
   ]
  },
  {
   "cell_type": "markdown",
   "metadata": {},
   "source": [
    "```\n",
    "# I check the current reserve of the pool\n",
    "❯ nibid q vpool reserve-assets axlwbtc:unusd\n",
    "base_asset_reserve: \"490.196078431363460442\"\n",
    "quote_asset_reserve: \"10200000.000000189115102819\"\n",
    "\n",
    "# I open a position for $ 0.2 ~= 10e-6 BTC\n",
    "> nibid tx perp open-position buy axlwbtc:unusd 1 200000 1 --from test1 --keyring-backend test --chain-id nibiru-localnet-0  --broadcast-mode block -y --gas 99999999999\n",
    "\n",
    "# New base reserve is 10 e-6 lower\n",
    "❯ nibid q vpool reserve-assets axlwbtc:unusd\n",
    "base_asset_reserve: \"480.769230769222026853\"\n",
    "quote_asset_reserve: \"10400000.000000189115102819\"\n",
    "\n",
    "```"
   ]
  },
  {
   "cell_type": "code",
   "execution_count": 11,
   "metadata": {},
   "outputs": [
    {
     "ename": "NameError",
     "evalue": "name 'trader' is not defined",
     "output_type": "error",
     "traceback": [
      "\u001b[0;31m---------------------------------------------------------------------------\u001b[0m",
      "\u001b[0;31mNameError\u001b[0m                                 Traceback (most recent call last)",
      "\u001b[0;32m/var/folders/00/n9t1px6d7zb_k3rkktd_httr0000gn/T/ipykernel_3004/2553164533.py\u001b[0m in \u001b[0;36m<module>\u001b[0;34m\u001b[0m\n\u001b[0;32m----> 1\u001b[0;31m \u001b[0mtrader\u001b[0m\u001b[0;34m.\u001b[0m\u001b[0mquery\u001b[0m\u001b[0;34m.\u001b[0m\u001b[0mvpool\u001b[0m\u001b[0;34m.\u001b[0m\u001b[0mreserve_assets\u001b[0m\u001b[0;34m(\u001b[0m\u001b[0;34m\"axlwbtc:unusd\"\u001b[0m\u001b[0;34m)\u001b[0m\u001b[0;34m\u001b[0m\u001b[0;34m\u001b[0m\u001b[0m\n\u001b[0m",
      "\u001b[0;31mNameError\u001b[0m: name 'trader' is not defined"
     ]
    }
   ],
   "source": [
    "trader.query.vpool.reserve_assets(\"axlwbtc:unusd\")"
   ]
  },
  {
   "cell_type": "code",
   "execution_count": 12,
   "metadata": {},
   "outputs": [
    {
     "ename": "NameError",
     "evalue": "name 'trader' is not defined",
     "output_type": "error",
     "traceback": [
      "\u001b[0;31m---------------------------------------------------------------------------\u001b[0m",
      "\u001b[0;31mNameError\u001b[0m                                 Traceback (most recent call last)",
      "\u001b[0;32m/var/folders/00/n9t1px6d7zb_k3rkktd_httr0000gn/T/ipykernel_3004/1938723136.py\u001b[0m in \u001b[0;36m<module>\u001b[0;34m\u001b[0m\n\u001b[1;32m      1\u001b[0m \u001b[0;31m# I do the same with the python SDK:\u001b[0m\u001b[0;34m\u001b[0m\u001b[0;34m\u001b[0m\u001b[0m\n\u001b[1;32m      2\u001b[0m \u001b[0;34m\u001b[0m\u001b[0m\n\u001b[0;32m----> 3\u001b[0;31m trader.tx.perp.open_position(\n\u001b[0m\u001b[1;32m      4\u001b[0m         \u001b[0msender\u001b[0m\u001b[0;34m=\u001b[0m\u001b[0mtrader\u001b[0m\u001b[0;34m.\u001b[0m\u001b[0maddress\u001b[0m\u001b[0;34m,\u001b[0m\u001b[0;34m\u001b[0m\u001b[0;34m\u001b[0m\u001b[0m\n\u001b[1;32m      5\u001b[0m         \u001b[0mside\u001b[0m\u001b[0;34m=\u001b[0m\u001b[0mSide\u001b[0m\u001b[0;34m.\u001b[0m\u001b[0mBUY\u001b[0m\u001b[0;34m,\u001b[0m\u001b[0;34m\u001b[0m\u001b[0;34m\u001b[0m\u001b[0m\n",
      "\u001b[0;31mNameError\u001b[0m: name 'trader' is not defined"
     ]
    }
   ],
   "source": [
    "# I do the same with the python SDK:\n",
    "\n",
    "trader.tx.perp.open_position(\n",
    "        sender=trader.address,\n",
    "        side=Side.BUY,\n",
    "        quote_asset_amount=\"200000\",\n",
    "        leverage=\"1\",\n",
    "        base_asset_amount_limit=\"0\",\n",
    "        token_pair=\"axlwbtc:unusd\",\n",
    "    )"
   ]
  },
  {
   "cell_type": "code",
   "execution_count": 13,
   "metadata": {},
   "outputs": [
    {
     "ename": "NameError",
     "evalue": "name 'trader' is not defined",
     "output_type": "error",
     "traceback": [
      "\u001b[0;31m---------------------------------------------------------------------------\u001b[0m",
      "\u001b[0;31mNameError\u001b[0m                                 Traceback (most recent call last)",
      "\u001b[0;32m/var/folders/00/n9t1px6d7zb_k3rkktd_httr0000gn/T/ipykernel_3004/2553164533.py\u001b[0m in \u001b[0;36m<module>\u001b[0;34m\u001b[0m\n\u001b[0;32m----> 1\u001b[0;31m \u001b[0mtrader\u001b[0m\u001b[0;34m.\u001b[0m\u001b[0mquery\u001b[0m\u001b[0;34m.\u001b[0m\u001b[0mvpool\u001b[0m\u001b[0;34m.\u001b[0m\u001b[0mreserve_assets\u001b[0m\u001b[0;34m(\u001b[0m\u001b[0;34m\"axlwbtc:unusd\"\u001b[0m\u001b[0;34m)\u001b[0m\u001b[0;34m\u001b[0m\u001b[0;34m\u001b[0m\u001b[0m\n\u001b[0m",
      "\u001b[0;31mNameError\u001b[0m: name 'trader' is not defined"
     ]
    }
   ],
   "source": [
    "trader.query.vpool.reserve_assets(\"axlwbtc:unusd\")"
   ]
  },
  {
   "cell_type": "code",
   "execution_count": 3,
   "metadata": {},
   "outputs": [
    {
     "data": {
      "text/plain": [
       "480.7692307692221"
      ]
     },
     "execution_count": 3,
     "metadata": {},
     "output_type": "execute_result"
    }
   ],
   "source": [
    "# Reserve is still at 480.. only changed slightly\n",
    "480769230769222026798/1e18"
   ]
  }
 ],
 "metadata": {
  "kernelspec": {
   "display_name": "Python 3.9.7 ('base')",
   "language": "python",
   "name": "python3"
  },
  "language_info": {
   "codemirror_mode": {
    "name": "ipython",
    "version": 3
   },
   "file_extension": ".py",
   "mimetype": "text/x-python",
   "name": "python",
   "nbconvert_exporter": "python",
   "pygments_lexer": "ipython3",
   "version": "3.9.7"
  },
  "orig_nbformat": 4,
  "vscode": {
   "interpreter": {
    "hash": "d312af9fe905c7a0bd1280fa976af6e59a596ffec11a6c7a16f60b6935fba5c2"
   }
  }
 },
 "nbformat": 4,
 "nbformat_minor": 2
}
