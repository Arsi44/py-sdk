{
 "cells": [
  {
   "cell_type": "code",
   "execution_count": 1,
   "metadata": {},
   "outputs": [
    {
     "name": "stdout",
     "output_type": "stream",
     "text": [
      "\n",
      "\u001b[1m[\u001b[0m\u001b[34;49mnotice\u001b[0m\u001b[1;39;49m]\u001b[0m\u001b[39;49m A new release of pip available: \u001b[0m\u001b[31;49m22.2.1\u001b[0m\u001b[39;49m -> \u001b[0m\u001b[32;49m22.2.2\u001b[0m\n",
      "\u001b[1m[\u001b[0m\u001b[34;49mnotice\u001b[0m\u001b[1;39;49m]\u001b[0m\u001b[39;49m To update, run: \u001b[0m\u001b[32;49mpip install --upgrade pip\u001b[0m\n"
     ]
    }
   ],
   "source": [
    "!pip install nibiru==0.5.0a2 --quiet"
   ]
  },
  {
   "cell_type": "markdown",
   "metadata": {},
   "source": [
    "# Introduction to py-sdk\n",
    "\n",
    "The python sdk allows you to create queries and transaction to a Nibiru chain.\n",
    "\n",
    "It allows to interact with all of the modules and can be leveraged to automate trading strategies or monitor them.\n",
    "\n",
    "This notebook will guide you on opening and closing positions."
   ]
  },
  {
   "cell_type": "code",
   "execution_count": 2,
   "metadata": {},
   "outputs": [],
   "source": [
    "import os\n",
    "import json\n",
    "\n",
    "import nibiru\n",
    "import nibiru.msg"
   ]
  },
  {
   "cell_type": "code",
   "execution_count": 3,
   "metadata": {},
   "outputs": [],
   "source": [
    "# We set up the environment variables to connect to devnet\n",
    "envs = {\n",
    "  \"HOST\" : \"34.130.24.87\",\n",
    "  \"LCD_ENDPOINT\" : \"http://34.130.24.87:1317\",\n",
    "  \"GRPC_ENDPOINT\" : \"34.130.24.87:9090\",\n",
    "  \"TENDERMINT_RPC_ENDPOINT\" : \"http://34.130.24.87:26657\",\n",
    "  \"WEBSOCKET_ENDPOINT\" : \"ws://34.130.24.87:26657/websocket\",\n",
    "  \"CHAIN_ID\" : \"nibiru-localnet-0\",\n",
    "}\n",
    "\n",
    "os.environ.update(envs)"
   ]
  },
  {
   "cell_type": "code",
   "execution_count": 4,
   "metadata": {},
   "outputs": [
    {
     "name": "stderr",
     "output_type": "stream",
     "text": [
      "WARNING:root:The mnemonic used for the newly generated key is: \n",
      "candy ankle hill furnace turtle often parrot rival sight spawn ensure repair lock believe nice pony glove between claim path credit jewel piano memory\n",
      "WARNING:root:Please write down this key, it will NOT be recoverable otherwise\n"
     ]
    }
   ],
   "source": [
    "tx_config = nibiru.TxConfig(tx_type=nibiru.common.TxType.BLOCK)\n",
    "agent = (\n",
    "    nibiru.Sdk\n",
    "    .authorize()\n",
    "    .with_network(nibiru.Network.customnet(), insecure=True)\n",
    "    .with_config(tx_config)\n",
    ")"
   ]
  },
  {
   "cell_type": "code",
   "execution_count": 5,
   "metadata": {},
   "outputs": [],
   "source": [
    "whale_mnemonic = \"guard cream sadness conduct invite crumble clock pudding hole grit liar hotel maid produce squeeze return argue turtle know drive eight casino maze host\"\n",
    "\n",
    "validator = (\n",
    "    nibiru.Sdk\n",
    "    .authorize(whale_mnemonic)\n",
    "    .with_network(nibiru.Network.customnet(), insecure=True)\n",
    "    .with_config(tx_config)\n",
    ")"
   ]
  },
  {
   "cell_type": "code",
   "execution_count": 6,
   "metadata": {},
   "outputs": [],
   "source": [
    "_ = validator.tx.execute_msgs(\n",
    "    nibiru.msg.MsgSend(\n",
    "        from_address=validator.address,\n",
    "        to_address=agent.address,\n",
    "        coins=[nibiru.Coin(10000, \"unibi\"), nibiru.Coin(10000, \"unusd\")]\n",
    "    )\n",
    ")"
   ]
  },
  {
   "cell_type": "code",
   "execution_count": 7,
   "metadata": {},
   "outputs": [],
   "source": [
    "_ = agent.tx.execute_msgs(\n",
    "    nibiru.msg.MsgOpenPosition(\n",
    "        sender=agent.address,\n",
    "        token_pair=\"ubtc:unusd\",\n",
    "        side=nibiru.common.Side.BUY,\n",
    "        quote_asset_amount=10,\n",
    "        leverage=10,\n",
    "        base_asset_amount_limit=0,\n",
    "    )\n",
    ")"
   ]
  },
  {
   "cell_type": "code",
   "execution_count": 8,
   "metadata": {},
   "outputs": [
    {
     "data": {
      "text/plain": [
       "{'position': {'trader_address': 'nibi1ck4ydy8k9sxlrzatu4dvpjq9uuv68q6wstzzs3',\n",
       "  'pair': {'token0': 'ubtc', 'token1': 'unusd'},\n",
       "  'size': 0.004011462288275796,\n",
       "  'margin': 10.0,\n",
       "  'open_notional': 100.0,\n",
       "  'latest_cumulative_premium_fraction': 10572.854142521657,\n",
       "  'block_number': 29189},\n",
       " 'position_notional': 100.0,\n",
       " 'unrealized_pnl': 7.99e-16,\n",
       " 'margin_ratio_mark': 0.1,\n",
       " 'margin_ratio_index': -0.17111863573989528,\n",
       " 'block_number': 29189}"
      ]
     },
     "execution_count": 8,
     "metadata": {},
     "output_type": "execute_result"
    }
   ],
   "source": [
    "agent.query.perp.position(trader=agent.address, token_pair=\"ubtc:unusd\")"
   ]
  }
 ],
 "metadata": {
  "kernelspec": {
   "display_name": "Python 3.9.7 ('nibiru-_E-NGQXs-py3.9')",
   "language": "python",
   "name": "python3"
  },
  "language_info": {
   "codemirror_mode": {
    "name": "ipython",
    "version": 3
   },
   "file_extension": ".py",
   "mimetype": "text/x-python",
   "name": "python",
   "nbconvert_exporter": "python",
   "pygments_lexer": "ipython3",
   "version": "3.9.7"
  },
  "orig_nbformat": 4,
  "vscode": {
   "interpreter": {
    "hash": "7c6bd61663bceee3e2601a36851271cf155d92f6d8ba6243c3c4f2abab52c877"
   }
  }
 },
 "nbformat": 4,
 "nbformat_minor": 2
}
