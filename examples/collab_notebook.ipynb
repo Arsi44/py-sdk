{
 "cells": [
  {
   "cell_type": "code",
   "execution_count": null,
   "metadata": {},
   "outputs": [],
   "source": [
    "!pip install nibiru==0.5.0a2 --quiet"
   ]
  },
  {
   "cell_type": "markdown",
   "metadata": {},
   "source": [
    "> ⚠ **Warning** : Once the above command ended, please restart the python kernel using `⌘/Ctrl + M .`\n",
    "\n",
    "# Introduction to py-sdk\n",
    "\n",
    "The python sdk allows you to create queries and transaction to a Nibiru chain.\n",
    "\n",
    "It allows to interact with all of the modules and can be leveraged to automate trading strategies or monitor them.\n",
    "\n",
    "This notebook will guide you on opening and closing positions."
   ]
  },
  {
   "cell_type": "code",
   "execution_count": null,
   "metadata": {},
   "outputs": [],
   "source": [
    "import os\n",
    "import json\n",
    "\n",
    "import nibiru\n",
    "import nibiru.msg"
   ]
  },
  {
   "cell_type": "code",
   "execution_count": null,
   "metadata": {},
   "outputs": [],
   "source": [
    "# We set up the environment variables to connect to devnet\n",
    "envs = {\n",
    "  \"HOST\" : \"34.130.24.87\",\n",
    "  \"LCD_ENDPOINT\" : \"http://34.130.24.87:1317\",\n",
    "  \"GRPC_ENDPOINT\" : \"34.130.24.87:9090\",\n",
    "  \"TENDERMINT_RPC_ENDPOINT\" : \"http://34.130.24.87:26657\",\n",
    "  \"WEBSOCKET_ENDPOINT\" : \"ws://34.130.24.87:26657/websocket\",\n",
    "  \"CHAIN_ID\" : \"nibiru-localnet-0\",\n",
    "}\n",
    "\n",
    "os.environ.update(envs)"
   ]
  },
  {
   "cell_type": "code",
   "execution_count": null,
   "metadata": {},
   "outputs": [],
   "source": [
    "tx_config = nibiru.TxConfig(tx_type=nibiru.common.TxType.BLOCK)\n",
    "agent = (\n",
    "    nibiru.Sdk\n",
    "    .authorize()\n",
    "    .with_network(nibiru.Network.customnet(), insecure=True)\n",
    "    .with_config(tx_config)\n",
    ")"
   ]
  },
  {
   "cell_type": "markdown",
   "metadata": {},
   "source": [
    "Our trader don't have any fund, so if we try to open a position it will fail saying that the address does not exist (never registered with the auth module of the chain).\n",
    "\n",
    "Let's use the validator funds to give some unusd and unibi to the trader"
   ]
  },
  {
   "cell_type": "code",
   "execution_count": null,
   "metadata": {},
   "outputs": [],
   "source": [
    "whale_mnemonic = \"guard cream sadness conduct invite crumble clock pudding hole grit liar hotel maid produce squeeze return argue turtle know drive eight casino maze host\"\n",
    "\n",
    "validator = (\n",
    "    nibiru.Sdk\n",
    "    .authorize(whale_mnemonic)\n",
    "    .with_network(nibiru.Network.customnet(), insecure=True)\n",
    "    .with_config(tx_config)\n",
    ")"
   ]
  },
  {
   "cell_type": "code",
   "execution_count": null,
   "metadata": {},
   "outputs": [],
   "source": [
    "_ = validator.tx.execute_msgs(\n",
    "    nibiru.msg.MsgSend(\n",
    "        from_address=validator.address,\n",
    "        to_address=agent.address,\n",
    "        coins=[nibiru.Coin(10000, \"unibi\"), nibiru.Coin(10000, \"unusd\")]\n",
    "    )\n",
    ")"
   ]
  },
  {
   "cell_type": "markdown",
   "metadata": {},
   "source": [
    "We can check the new balance of the trader:"
   ]
  },
  {
   "cell_type": "code",
   "execution_count": null,
   "metadata": {},
   "outputs": [],
   "source": [
    "agent.query.get_bank_balances(agent.address)"
   ]
  },
  {
   "cell_type": "markdown",
   "metadata": {},
   "source": [
    "Now with those fresh token, we can open a long position"
   ]
  },
  {
   "cell_type": "code",
   "execution_count": null,
   "metadata": {},
   "outputs": [],
   "source": [
    "_ = agent.tx.execute_msgs(\n",
    "    nibiru.msg.MsgOpenPosition(\n",
    "        sender=agent.address,\n",
    "        token_pair=\"ubtc:unusd\",\n",
    "        side=nibiru.common.Side.BUY,\n",
    "        quote_asset_amount=10,\n",
    "        leverage=10,\n",
    "        base_asset_amount_limit=0,\n",
    "    )\n",
    ")"
   ]
  },
  {
   "cell_type": "code",
   "execution_count": null,
   "metadata": {},
   "outputs": [],
   "source": [
    "agent.query.perp.position(trader=agent.address, token_pair=\"ubtc:unusd\")"
   ]
  }
 ],
 "metadata": {
  "kernelspec": {
   "display_name": "Python 3.9.7 ('nibiru-_E-NGQXs-py3.9')",
   "language": "python",
   "name": "python3"
  },
  "language_info": {
   "codemirror_mode": {
    "name": "ipython",
    "version": 3
   },
   "file_extension": ".py",
   "mimetype": "text/x-python",
   "name": "python",
   "nbconvert_exporter": "python",
   "pygments_lexer": "ipython3",
   "version": "3.9.7"
  },
  "orig_nbformat": 4,
  "vscode": {
   "interpreter": {
    "hash": "7c6bd61663bceee3e2601a36851271cf155d92f6d8ba6243c3c4f2abab52c877"
   }
  }
 },
 "nbformat": 4,
 "nbformat_minor": 2
}
